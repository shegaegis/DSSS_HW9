{
  "nbformat": 4,
  "nbformat_minor": 0,
  "metadata": {
    "colab": {
      "provenance": [],
      "gpuType": "T4"
    },
    "kernelspec": {
      "name": "python3",
      "display_name": "Python 3"
    },
    "language_info": {
      "name": "python"
    },
    "accelerator": "GPU"
  },
  "cells": [
    {
      "cell_type": "code",
      "source": [
        "from telegram.ext import Application, CommandHandler, CallbackContext\n",
        "from telegram import Update\n",
        "\n",
        "# Function to handle the /start command\n",
        "async def start(update: Update, context: CallbackContext) -> None:\n",
        "    \"\"\"Send a message when the command /start is issued\"\"\"\n",
        "    await update.message.reply_text(\"Hi! This is your Assistant bot. How can I help you?\")\n",
        "\n",
        "# Function to process other user messages (not used here, but can be extended)\n",
        "async def process(update: Update, context: CallbackContext) -> None:\n",
        "    \"\"\"Process the user message\"\"\"\n",
        "    # Add any processing logic if required\n",
        "    pass\n",
        "\n",
        "def main() -> None:\n",
        "    \"\"\"Start the bot\"\"\"\n",
        "    # My API token from BotFather\n",
        "    API_TOKEN = \"7744832175:AAFSYnkvQPGmH1qXfCSTWfFnse3uSpTyxDY\"\n",
        "\n",
        "    # Create the application\n",
        "    application = Application.builder().token(API_TOKEN).build()\n",
        "\n",
        "    # /start command\n",
        "    application.add_handler(CommandHandler(\"start\", start))\n",
        "\n",
        "    # Start the bot\n",
        "    application.run_polling()\n",
        "\n",
        "if __name__ == \"__main__\":\n",
        "    main()"
      ],
      "metadata": {
        "id": "hSJhlTxkqXhF"
      },
      "execution_count": null,
      "outputs": []
    }
  ]
}