{
  "nbformat": 4,
  "nbformat_minor": 0,
  "metadata": {
    "colab": {
      "provenance": [],
      "gpuType": "T4"
    },
    "kernelspec": {
      "name": "python3",
      "display_name": "Python 3"
    },
    "language_info": {
      "name": "python"
    },
    "accelerator": "GPU"
  },
  "cells": [
    {
      "cell_type": "code",
      "source": [
        "import os\n",
        "import torch\n",
        "from telegram.ext import Application, CommandHandler, MessageHandler, filters, CallbackContext\n",
        "from telegram import Update\n",
        "from transformers import pipeline\n",
        "import nest_asyncio\n",
        "\n",
        "# Initialize TinyLlama Model\n",
        "MODEL_NAME = \"TinyLlama/TinyLlama-1.1B-Chat-v1.0\"\n",
        "pipe = pipeline(\n",
        "    \"text-generation\",\n",
        "    model=MODEL_NAME,\n",
        "    torch_dtype=torch.bfloat16,\n",
        "    device_map=\"auto\"\n",
        ")\n",
        "\n",
        "# Function to generate a response based on user input\n",
        "def generate_response(user_input: str) -> str:\n",
        "    \"\"\"Generate a response using TinyLlama\"\"\"\n",
        "\n",
        "    messages = [\n",
        "        {\"role\": \"system\", \"content\": \"You are a helpful assistant who provides concise and factual responses.\"},\n",
        "        {\"role\": \"user\", \"content\": user_input},\n",
        "    ]\n",
        "    # Format the input for the TinyLlama model\n",
        "    prompt = pipe.tokenizer.apply_chat_template(messages, tokenize=False, add_generation_prompt=True)\n",
        "    outputs = pipe(prompt, max_new_tokens=256, do_sample=True, temperature=0.7, top_k=50, top_p=0.95)\n",
        "    # Return the generated text response\n",
        "    return outputs[0][\"generated_text\"].split(\"<|assistant|>\")[-1].strip()\n",
        "\n",
        "# Function to handle the /start command\n",
        "async def start(update: Update, context: CallbackContext) -> None:\n",
        "    await update.message.reply_text(\"Hi! This is your AI Assistant bot. How can I help you?\")\n",
        "\n",
        "# Function to process the user’s message and generate a response\n",
        "async def process(update: Update, context: CallbackContext) -> None:\n",
        "    user_message = update.message.text\n",
        "\n",
        "    # Query the model for a response\n",
        "    try:\n",
        "        response = generate_response(user_message)\n",
        "    except Exception as e:\n",
        "        response = \"There was an error processing your request. Please try again later.\"\n",
        "        print(f\"Error: {e}\")\n",
        "    await update.message.reply_text(response)\n",
        "\n",
        "def main() -> None:\n",
        "    \"\"\"Start the bot\"\"\"\n",
        "    # Read the API token from the file\n",
        "    API_TOKEN = \"7744832175:AAFSYnkvQPGmH1qXfCSTWfFnse3uSpTyxDY\"\n",
        "    application = Application.builder().token(API_TOKEN).build()\n",
        "\n",
        "    # Add command and message handlers\n",
        "    application.add_handler(CommandHandler(\"start\", start))\n",
        "    application.add_handler(MessageHandler(filters.TEXT & ~filters.COMMAND, process))\n",
        "\n",
        "    # Start polling for updates\n",
        "    application.run_polling()\n",
        "\n",
        "if __name__ == \"__main__\":\n",
        "    main()"
      ],
      "metadata": {
        "colab": {
          "base_uri": "https://localhost:8080/"
        },
        "id": "hSJhlTxkqXhF",
        "outputId": "829b2c0c-c7ab-455f-a668-5a3dbed39734"
      },
      "execution_count": null,
      "outputs": [
        {
          "output_type": "stream",
          "name": "stderr",
          "text": [
            "Device set to use cuda:0\n"
          ]
        }
      ]
    }
  ]
}